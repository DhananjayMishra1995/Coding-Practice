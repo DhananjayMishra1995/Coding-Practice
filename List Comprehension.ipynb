{
 "cells": [
  {
   "cell_type": "markdown",
   "metadata": {},
   "source": [
    "List comprehensions are used for creating new lists from other iterables like tuples, strings, arrays, lists, etc. A list comprehension consists of brackets containing the expression, which is executed for each element along with the for loop to iterate over each element.\n",
    "\n",
    "\n",
    "Syntax - \n",
    "\n",
    "[< output_variable >  < for loop > < anything_on_basis_of_need > ]"
   ]
  },
  {
   "cell_type": "markdown",
   "metadata": {},
   "source": [
    "#### We will write two programs now to double the each digit of a list and save that in new list, one will be using normal for loop and other with list comprehension"
   ]
  },
  {
   "cell_type": "code",
   "execution_count": 6,
   "metadata": {},
   "outputs": [
    {
     "name": "stdout",
     "output_type": "stream",
     "text": [
      "[10, 14, 18, 6, 8]\n"
     ]
    }
   ],
   "source": [
    "mylist = [5,7,9,3,4]\n",
    "\n",
    "double_list = []\n",
    "#Using for loop to double each variable of list\n",
    "for var in mylist:\n",
    "    double_list.append(var*2)\n",
    "    \n",
    "print(double_list)"
   ]
  },
  {
   "cell_type": "code",
   "execution_count": 5,
   "metadata": {},
   "outputs": [
    {
     "data": {
      "text/plain": [
       "[10, 14, 18, 6, 8]"
      ]
     },
     "execution_count": 5,
     "metadata": {},
     "output_type": "execute_result"
    }
   ],
   "source": [
    "#Using list comprehension to double each variable of list\n",
    "double_list_compre = [var*2 for var in mylist]\n",
    "double_list_compre"
   ]
  },
  {
   "cell_type": "markdown",
   "metadata": {},
   "source": [
    "#### We will write two programs now to filter the odd number from list and save that in new list, one will be using normal for loop and other with list comprehension"
   ]
  },
  {
   "cell_type": "code",
   "execution_count": 7,
   "metadata": {},
   "outputs": [
    {
     "name": "stdout",
     "output_type": "stream",
     "text": [
      "[9, 5, 3, 5, 7, 9]\n"
     ]
    }
   ],
   "source": [
    "mylist = [8,9,5,3,5,7,9,2]\n",
    "\n",
    "odd_number = []\n",
    "\n",
    "#Using for loop \n",
    "for num in mylist:\n",
    "    \n",
    "    #Filtering number odd or even\n",
    "    if num % 2 != 0:\n",
    "        odd_number.append(num)\n",
    "        \n",
    "print(odd_number)"
   ]
  },
  {
   "cell_type": "code",
   "execution_count": 8,
   "metadata": {},
   "outputs": [
    {
     "name": "stdout",
     "output_type": "stream",
     "text": [
      "[9, 5, 3, 5, 7, 9]\n"
     ]
    }
   ],
   "source": [
    "#Using List comprehension to filter the odd numbers\n",
    "odd_num_list_compre = [num for num in mylist if num%2 != 0]\n",
    "print(odd_num_list_compre)"
   ]
  },
  {
   "cell_type": "markdown",
   "metadata": {},
   "source": [
    "### We can compare list comprehension with map and filter functions too "
   ]
  },
  {
   "cell_type": "code",
   "execution_count": null,
   "metadata": {},
   "outputs": [],
   "source": []
  }
 ],
 "metadata": {
  "kernelspec": {
   "display_name": "Python 3",
   "language": "python",
   "name": "python3"
  },
  "language_info": {
   "codemirror_mode": {
    "name": "ipython",
    "version": 3
   },
   "file_extension": ".py",
   "mimetype": "text/x-python",
   "name": "python",
   "nbconvert_exporter": "python",
   "pygments_lexer": "ipython3",
   "version": "3.8.5"
  }
 },
 "nbformat": 4,
 "nbformat_minor": 4
}
