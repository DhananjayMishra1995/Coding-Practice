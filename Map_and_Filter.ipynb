{
 "cells": [
  {
   "cell_type": "markdown",
   "metadata": {},
   "source": [
    "#### Mapping\n",
    "When each item of a list is transformed \n",
    " "
   ]
  },
  {
   "cell_type": "markdown",
   "metadata": {},
   "source": [
    "We will do that both way one with the traditional method i.e., by creating the user-defined function and other is by in-built function map"
   ]
  },
  {
   "cell_type": "code",
   "execution_count": 3,
   "metadata": {},
   "outputs": [
    {
     "name": "stdout",
     "output_type": "stream",
     "text": [
      "[5, 2, 4]\n",
      "[10, 4, 8]\n"
     ]
    }
   ],
   "source": [
    "## User defined function to double the each element of list\n",
    "\n",
    "def double_each_element(list_passed):\n",
    "    \n",
    "    \"\"\"This function will take a list and double each element of the list and return new list\"\"\"\n",
    "    \n",
    "    new_list = []\n",
    "    \n",
    "    for each_ele in list_passed:\n",
    "        \n",
    "        #appending the element by doubling its value\n",
    "        new_list.append(each_ele*2)\n",
    "        \n",
    "    return new_list\n",
    "\n",
    "list_passed = [5,2,4]\n",
    "print(list_passed)\n",
    "\n",
    "#Checking the new list\n",
    "print(double_each_element(list_passed))\n"
   ]
  },
  {
   "cell_type": "code",
   "execution_count": 11,
   "metadata": {},
   "outputs": [
    {
     "name": "stdout",
     "output_type": "stream",
     "text": [
      "This is list produced with the help of map and double function. The output is [10, 4, 8]\n",
      "This is list produced with the help of map and lambda function. The output is [10, 4, 8]\n"
     ]
    }
   ],
   "source": [
    "## Now we will try to use map function\n",
    "\n",
    "#We can either define a function and pass inside map function or we can use lambda function\n",
    "\n",
    "#We will use both here\n",
    "\n",
    "#List whose elements we want to double\n",
    "list_to_be_doubled = [5,2,4]\n",
    "\n",
    "def double(number):\n",
    "    \n",
    "    \"\"\"This function double every element\"\"\"\n",
    "    \n",
    "    return number*2\n",
    "\n",
    "#We will use this function with map\n",
    "double_with_fun = map(double,list_to_be_doubled)\n",
    "\n",
    "print(\"This is list produced with the help of map and double function. The output is {}\".format(list(double_with_fun)))\n",
    "\n",
    "\n",
    "#Now we will use map and lambda\n",
    "double_with_lambda = map(lambda x: x*2, list_to_be_doubled)\n",
    "\n",
    "\n",
    "print(\"This is list produced with the help of map and lambda function. The output is {}\".format(list(double_with_lambda)))\n"
   ]
  },
  {
   "cell_type": "markdown",
   "metadata": {},
   "source": [
    "## Filter\n",
    "\n",
    "As the name suggests when we filter certain elements from list"
   ]
  },
  {
   "cell_type": "markdown",
   "metadata": {},
   "source": [
    "We will do this with the user defined function as well as with filter function"
   ]
  },
  {
   "cell_type": "code",
   "execution_count": 12,
   "metadata": {},
   "outputs": [
    {
     "name": "stdout",
     "output_type": "stream",
     "text": [
      "[4, 5, 8, 6, 10, 23, 45, 90]\n",
      "[4, 8, 6, 10, 90]\n"
     ]
    }
   ],
   "source": [
    "## user-defined function\n",
    "\n",
    "def even_only(list_passed):\n",
    "    \n",
    "    \"\"\"This function will filter out the number which are even and store them in a list and return that\"\"\"\n",
    "    \n",
    "    even_numbers = []\n",
    "    \n",
    "    for each_ele in list_passed:\n",
    "        \n",
    "        if each_ele%2 == 0:\n",
    "            \n",
    "            #if condition satisfies we will add the number in list\n",
    "            even_numbers.append(each_ele)\n",
    "        else:\n",
    "            pass\n",
    "    \n",
    "    return even_numbers\n",
    "\n",
    "list_passed = [4,5,8,6,10,23,45,90]\n",
    "print(list_passed)\n",
    "\n",
    "#Checking the new list\n",
    "print(even_only(list_passed))"
   ]
  },
  {
   "cell_type": "code",
   "execution_count": 13,
   "metadata": {},
   "outputs": [
    {
     "name": "stdout",
     "output_type": "stream",
     "text": [
      "This is list produced with the help of filter and even_num function. The output is [2, 4, 8]\n",
      "This is list produced with the help of filter and lambda function. The output is [2, 4, 8]\n"
     ]
    }
   ],
   "source": [
    "#Now we will try this using filter function \n",
    "\n",
    "#We can either define a function and pass inside map function or we can use lambda function\n",
    "\n",
    "#We will use both here\n",
    "\n",
    "#List whose elements we want to double\n",
    "list_to_be_filtered = [5,2,4,7,9,8,3]\n",
    "\n",
    "def even_num(number):\n",
    "    \n",
    "    \"\"\"This function will take a number and returns if that is even\"\"\"\n",
    "    \n",
    "    if number%2 == 0:\n",
    "        return number\n",
    "    \n",
    "even_with_fun = list(filter(even_num,list_to_be_filtered))\n",
    "\n",
    "\n",
    "#now we will use filter with lambda\n",
    "even_with_lambda = list(filter(lambda x : x%2 == 0, list_to_be_filtered))\n",
    "\n",
    "\n",
    "#printing both cases\n",
    "print(\"This is list produced with the help of filter and even_num function. The output is {}\".format(even_with_fun))\n",
    "print(\"This is list produced with the help of filter and lambda function. The output is {}\".format(even_with_lambda))"
   ]
  },
  {
   "cell_type": "code",
   "execution_count": null,
   "metadata": {},
   "outputs": [],
   "source": []
  }
 ],
 "metadata": {
  "kernelspec": {
   "display_name": "Python 3",
   "language": "python",
   "name": "python3"
  },
  "language_info": {
   "codemirror_mode": {
    "name": "ipython",
    "version": 3
   },
   "file_extension": ".py",
   "mimetype": "text/x-python",
   "name": "python",
   "nbconvert_exporter": "python",
   "pygments_lexer": "ipython3",
   "version": "3.8.5"
  }
 },
 "nbformat": 4,
 "nbformat_minor": 4
}
